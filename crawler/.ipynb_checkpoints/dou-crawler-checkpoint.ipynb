{
 "cells": [
  {
   "cell_type": "markdown",
   "metadata": {},
   "source": [
    "## 1. Parse data "
   ]
  },
  {
   "cell_type": "code",
   "execution_count": 1,
   "metadata": {},
   "outputs": [],
   "source": [
    "import pandas as pd\n",
    "import numpy as np\n",
    "import requests\n",
    "from bs4 import BeautifulSoup\n",
    "from requests.auth import HTTPBasicAuth"
   ]
  },
  {
   "cell_type": "code",
   "execution_count": 2,
   "metadata": {},
   "outputs": [],
   "source": [
    "headers = {'User-Agent': 'Mozilla/5.0 (Macintosh; Intel Mac OS X 10_11_5) AppleWebKit/537.36 (KHTML, like Gecko) Chrome/50.0.2661.102 Safari/537.36'}"
   ]
  },
  {
   "cell_type": "code",
   "execution_count": 3,
   "metadata": {},
   "outputs": [],
   "source": [
    "url = \"https://jobs.dou.ua/reviews\""
   ]
  },
  {
   "cell_type": "code",
   "execution_count": 4,
   "metadata": {},
   "outputs": [],
   "source": [
    "def acquire_company(comment_soup):\n",
    "    for link in comment_soup.find_all('a'):\n",
    "        ref = link.get('href')\n",
    "        if 'https://jobs.dou.ua/companies' in ref:\n",
    "            return ref.split('/')[4]"
   ]
  },
  {
   "cell_type": "code",
   "execution_count": 5,
   "metadata": {},
   "outputs": [],
   "source": [
    "def acquire_comment_text(comment_soup):\n",
    "    return comment_soup.find(\"div\", class_=\"l-text b-typo\").p.text.replace(u'\\xa0', u' ')"
   ]
  },
  {
   "cell_type": "code",
   "execution_count": 6,
   "metadata": {},
   "outputs": [],
   "source": [
    "def get_comment_data(comment_soup):\n",
    "    return comment_soup.find('a', class_=\"comment-link\").text"
   ]
  },
  {
   "cell_type": "code",
   "execution_count": 7,
   "metadata": {},
   "outputs": [],
   "source": [
    "def get_author_of_comment(comment_soup):\n",
    "    return comment_soup.find(\"a\", class_=\"avatar\").get('href')"
   ]
  },
  {
   "cell_type": "code",
   "execution_count": 8,
   "metadata": {},
   "outputs": [],
   "source": [
    "def ReviewData():\n",
    "    def __init__(self, company_name: str, text: str, user: str, data: str):\n",
    "        self.company_name = company_name\n",
    "        self.text = text\n",
    "        self.user = user\n",
    "        self.data = data"
   ]
  },
  {
   "cell_type": "code",
   "execution_count": 9,
   "metadata": {},
   "outputs": [],
   "source": [
    "def parse_comment(comment_soup):\n",
    "    company_name = acquire_company(comment_soup)\n",
    "    text = v\n",
    "    user = get_author_of_comment(comment_soup)\n",
    "    data = get_comment_data(comment_soup)\n",
    "    \n",
    "    return ReviewData(company_name=company_name, text=text, user=user, data=data)"
   ]
  },
  {
   "cell_type": "code",
   "execution_count": 23,
   "metadata": {},
   "outputs": [],
   "source": [
    "def parse_url(url, review_datas): \n",
    "    result = requests.get(url, headers=headers)\n",
    "    soup = BeautifulSoup(result.text, 'html.parser')\n",
    "    comments = soup.findAll(\"div\", class_=\"comment\")\n",
    "    for comment in comments:\n",
    "        company_name = acquire_company(comment)\n",
    "        if company_name is None:\n",
    "            #probably, it is reply for review\n",
    "            continue\n",
    "        text = acquire_comment_text(comment)\n",
    "        user = get_author_of_comment(comment)\n",
    "        data = get_comment_data(comment)\n",
    "        \n",
    "        review_datas['company_name'].append(company_name)\n",
    "        review_datas['text'].append(text)\n",
    "        review_datas['user'].append(user)\n",
    "        review_datas['data'].append(data)\n",
    "        "
   ]
  },
  {
   "cell_type": "code",
   "execution_count": 24,
   "metadata": {},
   "outputs": [],
   "source": [
    "def parse_urls(urls):\n",
    "    review_datas = dict()\n",
    "    review_datas['company_name'] = []\n",
    "    review_datas['text'] = []\n",
    "    review_datas['user'] = []\n",
    "    review_datas['data'] = []\n",
    "    \n",
    "    for url in urls:\n",
    "        try:\n",
    "            parse_url(url, review_datas)\n",
    "        except:\n",
    "            print(url)\n",
    "    \n",
    "    return pd.DataFrame.from_dict(review_datas)\n",
    "    "
   ]
  },
  {
   "cell_type": "code",
   "execution_count": 25,
   "metadata": {},
   "outputs": [],
   "source": [
    "urls = [f\"https://jobs.dou.ua/reviews/{i}/\" for i in range(1, 607)]"
   ]
  },
  {
   "cell_type": "code",
   "execution_count": 26,
   "metadata": {},
   "outputs": [
    {
     "name": "stdout",
     "output_type": "stream",
     "text": [
      "https://jobs.dou.ua/reviews/431/\n",
      "https://jobs.dou.ua/reviews/540/\n",
      "CPU times: user 40.5 s, sys: 567 ms, total: 41 s\n",
      "Wall time: 7min 14s\n"
     ]
    }
   ],
   "source": [
    "%time df = parse_urls(urls)"
   ]
  },
  {
   "cell_type": "code",
   "execution_count": 32,
   "metadata": {},
   "outputs": [
    {
     "data": {
      "text/plain": [
       "13138"
      ]
     },
     "execution_count": 32,
     "metadata": {},
     "output_type": "execute_result"
    }
   ],
   "source": [
    "len(df)"
   ]
  },
  {
   "cell_type": "code",
   "execution_count": 33,
   "metadata": {},
   "outputs": [
    {
     "data": {
      "text/html": [
       "<div>\n",
       "<style scoped>\n",
       "    .dataframe tbody tr th:only-of-type {\n",
       "        vertical-align: middle;\n",
       "    }\n",
       "\n",
       "    .dataframe tbody tr th {\n",
       "        vertical-align: top;\n",
       "    }\n",
       "\n",
       "    .dataframe thead th {\n",
       "        text-align: right;\n",
       "    }\n",
       "</style>\n",
       "<table border=\"1\" class=\"dataframe\">\n",
       "  <thead>\n",
       "    <tr style=\"text-align: right;\">\n",
       "      <th></th>\n",
       "      <th>company_name</th>\n",
       "      <th>text</th>\n",
       "      <th>user</th>\n",
       "      <th>data</th>\n",
       "    </tr>\n",
       "  </thead>\n",
       "  <tbody>\n",
       "    <tr>\n",
       "      <th>0</th>\n",
       "      <td>ring-ukraine</td>\n",
       "      <td>Проработала в компании год. Ушла, т.к. другая ...</td>\n",
       "      <td>https://dou.ua/users/anna-semerenko/</td>\n",
       "      <td>31 марта 22:30</td>\n",
       "    </tr>\n",
       "    <tr>\n",
       "      <th>1</th>\n",
       "      <td>computer-school-hillel-international</td>\n",
       "      <td>Всем привет!В прошлом году прошел два курса, в...</td>\n",
       "      <td>https://dou.ua/users/botirov-rustam/</td>\n",
       "      <td>31 марта 22:21</td>\n",
       "    </tr>\n",
       "    <tr>\n",
       "      <th>2</th>\n",
       "      <td>room4</td>\n",
       "      <td>Работаю в компании около 7 месяцев и очень дов...</td>\n",
       "      <td>https://dou.ua/users/victor-osadchiy/</td>\n",
       "      <td>31 марта 19:16</td>\n",
       "    </tr>\n",
       "    <tr>\n",
       "      <th>3</th>\n",
       "      <td>computer-school-hillel-international</td>\n",
       "      <td>Добрый день! Хочу оставить отзыв по обучению в...</td>\n",
       "      <td>https://dou.ua/users/mariya-bryizhko/</td>\n",
       "      <td>31 марта 18:36</td>\n",
       "    </tr>\n",
       "    <tr>\n",
       "      <th>4</th>\n",
       "      <td>codeit</td>\n",
       "      <td>Работаю в компании уже ~6,5 лет. Это моя перва...</td>\n",
       "      <td>https://dou.ua/users/daria-lymar-1/</td>\n",
       "      <td>31 марта 17:48</td>\n",
       "    </tr>\n",
       "    <tr>\n",
       "      <th>5</th>\n",
       "      <td>codica</td>\n",
       "      <td>Очень рад, что попал в эту компанию. Из ценног...</td>\n",
       "      <td>https://dou.ua/users/anatolij-bogatyirenko/</td>\n",
       "      <td>31 марта 17:30</td>\n",
       "    </tr>\n",
       "    <tr>\n",
       "      <th>6</th>\n",
       "      <td>codica</td>\n",
       "      <td>Толичек, спасибо тебе огромное! Если надумаешь...</td>\n",
       "      <td>https://dou.ua/users/natalyaklimenko/</td>\n",
       "      <td>31 марта 18:02</td>\n",
       "    </tr>\n",
       "    <tr>\n",
       "      <th>7</th>\n",
       "      <td>mobilunity</td>\n",
       "      <td>Скоро два года, как тут работаю.</td>\n",
       "      <td>https://dou.ua/users/seva-shasharin/</td>\n",
       "      <td>31 марта 16:51</td>\n",
       "    </tr>\n",
       "    <tr>\n",
       "      <th>8</th>\n",
       "      <td>onix</td>\n",
       "      <td>Когда просыпаешься утром в понедельник и не ум...</td>\n",
       "      <td>https://dou.ua/users/marina-pemahova/</td>\n",
       "      <td>31 марта 15:51</td>\n",
       "    </tr>\n",
       "    <tr>\n",
       "      <th>9</th>\n",
       "      <td>codica</td>\n",
       "      <td>Проработала в Codica больше двух лет на позици...</td>\n",
       "      <td>https://dou.ua/users/ekaterina-plyashechnik/</td>\n",
       "      <td>31 марта 15:26</td>\n",
       "    </tr>\n",
       "  </tbody>\n",
       "</table>\n",
       "</div>"
      ],
      "text/plain": [
       "                           company_name  \\\n",
       "0                          ring-ukraine   \n",
       "1  computer-school-hillel-international   \n",
       "2                                 room4   \n",
       "3  computer-school-hillel-international   \n",
       "4                                codeit   \n",
       "5                                codica   \n",
       "6                                codica   \n",
       "7                            mobilunity   \n",
       "8                                  onix   \n",
       "9                                codica   \n",
       "\n",
       "                                                text  \\\n",
       "0  Проработала в компании год. Ушла, т.к. другая ...   \n",
       "1  Всем привет!В прошлом году прошел два курса, в...   \n",
       "2  Работаю в компании около 7 месяцев и очень дов...   \n",
       "3  Добрый день! Хочу оставить отзыв по обучению в...   \n",
       "4  Работаю в компании уже ~6,5 лет. Это моя перва...   \n",
       "5  Очень рад, что попал в эту компанию. Из ценног...   \n",
       "6  Толичек, спасибо тебе огромное! Если надумаешь...   \n",
       "7                   Скоро два года, как тут работаю.   \n",
       "8  Когда просыпаешься утром в понедельник и не ум...   \n",
       "9  Проработала в Codica больше двух лет на позици...   \n",
       "\n",
       "                                           user            data  \n",
       "0          https://dou.ua/users/anna-semerenko/  31 марта 22:30  \n",
       "1          https://dou.ua/users/botirov-rustam/  31 марта 22:21  \n",
       "2         https://dou.ua/users/victor-osadchiy/  31 марта 19:16  \n",
       "3         https://dou.ua/users/mariya-bryizhko/  31 марта 18:36  \n",
       "4           https://dou.ua/users/daria-lymar-1/  31 марта 17:48  \n",
       "5   https://dou.ua/users/anatolij-bogatyirenko/  31 марта 17:30  \n",
       "6         https://dou.ua/users/natalyaklimenko/  31 марта 18:02  \n",
       "7          https://dou.ua/users/seva-shasharin/  31 марта 16:51  \n",
       "8         https://dou.ua/users/marina-pemahova/  31 марта 15:51  \n",
       "9  https://dou.ua/users/ekaterina-plyashechnik/  31 марта 15:26  "
      ]
     },
     "execution_count": 33,
     "metadata": {},
     "output_type": "execute_result"
    }
   ],
   "source": [
    "df.head(10)"
   ]
  },
  {
   "cell_type": "code",
   "execution_count": 37,
   "metadata": {},
   "outputs": [
    {
     "name": "stdout",
     "output_type": "stream",
     "text": [
      "The number of companies:  2094\n"
     ]
    }
   ],
   "source": [
    "print( \"The number of companies: \", len(np.unique(df['company_name'].values)))"
   ]
  },
  {
   "cell_type": "markdown",
   "metadata": {},
   "source": [
    "Saved data into file"
   ]
  },
  {
   "cell_type": "code",
   "execution_count": null,
   "metadata": {},
   "outputs": [],
   "source": [
    "df.to_csv(\"../data/dou-company-reviews.csv\")"
   ]
  },
  {
   "cell_type": "markdown",
   "metadata": {},
   "source": [
    "#### Short data description"
   ]
  },
  {
   "cell_type": "markdown",
   "metadata": {},
   "source": [
    "As we can see from the table above or looking at the site (https://jobs.dou.ua/reviews/), there are not strictly annotated data. Here we can acquire user review text about specific company, company name, user name, where user worked while he wrote this review and the date of written review in dou.ua. "
   ]
  },
  {
   "cell_type": "markdown",
   "metadata": {},
   "source": [
    "From these data, the most interesing for us are review text and the name of company related to this review text. "
   ]
  },
  {
   "cell_type": "markdown",
   "metadata": {},
   "source": [
    "From the https://jobs.dou.ua/reviews/ site we parsed 13138 user reviews about 2094 different IT companies in Ukraine. "
   ]
  },
  {
   "cell_type": "markdown",
   "metadata": {},
   "source": [
    "Here, users usually write review in Ukrainian or Russian languages, so probabaly we translate all texts into Ukrainain or work with both languages. "
   ]
  },
  {
   "cell_type": "markdown",
   "metadata": {},
   "source": [
    "As we work with user reviews about different companies, of course there can be biases. For instance, in the available data we observed the situation when user left negative comment about company because he failed the interview by unknown reason and he did not work at this company."
   ]
  },
  {
   "cell_type": "markdown",
   "metadata": {},
   "source": [
    "## 2. How to annotate data"
   ]
  },
  {
   "cell_type": "markdown",
   "metadata": {},
   "source": [
    "Unfortunetly,  we don't have strictly annoated data, so we need to annotate it for using machine learning approaches or for measuring the metric."
   ]
  },
  {
   "cell_type": "markdown",
   "metadata": {},
   "source": [
    "In this case, we want to know the next information about each user review: <br/>\n",
    "1) whether sentence positive, neutral or negative <br/>\n",
    "2) pros and cons (advantages and disadvantages) about company <br/>\n",
    "3) whether user worked, is working or have never worked at this company. A lot of users who have never wrote reviews about the company based only on interview process, but someone wrote review while they are working there or worked before. \n"
   ]
  },
  {
   "cell_type": "markdown",
   "metadata": {},
   "source": [
    "In this case we show example how to annatate data here, in jupyter notebook"
   ]
  },
  {
   "cell_type": "code",
   "execution_count": 84,
   "metadata": {},
   "outputs": [],
   "source": [
    "import warnings\n",
    "warnings.filterwarnings('ignore')\n",
    "from enum import IntEnum"
   ]
  },
  {
   "cell_type": "code",
   "execution_count": 85,
   "metadata": {},
   "outputs": [],
   "source": [
    "class UserWorkType(IntEnum):\n",
    "    WORKED = 0,\n",
    "    WORKING = 1,\n",
    "    NEVER_WORKED = 2,\n",
    "    UNDEFINED = 3"
   ]
  },
  {
   "cell_type": "code",
   "execution_count": 78,
   "metadata": {},
   "outputs": [],
   "source": [
    "df['prons'] = None\n",
    "df['cons'] = None\n",
    "df['user_work_type'] = UserWorkType.UNDEFINED"
   ]
  },
  {
   "cell_type": "code",
   "execution_count": 71,
   "metadata": {},
   "outputs": [
    {
     "data": {
      "text/html": [
       "<div>\n",
       "<style scoped>\n",
       "    .dataframe tbody tr th:only-of-type {\n",
       "        vertical-align: middle;\n",
       "    }\n",
       "\n",
       "    .dataframe tbody tr th {\n",
       "        vertical-align: top;\n",
       "    }\n",
       "\n",
       "    .dataframe thead th {\n",
       "        text-align: right;\n",
       "    }\n",
       "</style>\n",
       "<table border=\"1\" class=\"dataframe\">\n",
       "  <thead>\n",
       "    <tr style=\"text-align: right;\">\n",
       "      <th></th>\n",
       "      <th>company_name</th>\n",
       "      <th>text</th>\n",
       "      <th>user</th>\n",
       "      <th>data</th>\n",
       "      <th>prons</th>\n",
       "      <th>cons</th>\n",
       "      <th>user_work_type</th>\n",
       "    </tr>\n",
       "  </thead>\n",
       "  <tbody>\n",
       "    <tr>\n",
       "      <th>0</th>\n",
       "      <td>ring-ukraine</td>\n",
       "      <td>Проработала в компании год. Ушла, т.к. другая ...</td>\n",
       "      <td>https://dou.ua/users/anna-semerenko/</td>\n",
       "      <td>31 марта 22:30</td>\n",
       "      <td>None</td>\n",
       "      <td>None</td>\n",
       "      <td>3</td>\n",
       "    </tr>\n",
       "    <tr>\n",
       "      <th>1</th>\n",
       "      <td>computer-school-hillel-international</td>\n",
       "      <td>Всем привет!В прошлом году прошел два курса, в...</td>\n",
       "      <td>https://dou.ua/users/botirov-rustam/</td>\n",
       "      <td>31 марта 22:21</td>\n",
       "      <td>None</td>\n",
       "      <td>None</td>\n",
       "      <td>3</td>\n",
       "    </tr>\n",
       "    <tr>\n",
       "      <th>2</th>\n",
       "      <td>room4</td>\n",
       "      <td>Работаю в компании около 7 месяцев и очень дов...</td>\n",
       "      <td>https://dou.ua/users/victor-osadchiy/</td>\n",
       "      <td>31 марта 19:16</td>\n",
       "      <td>None</td>\n",
       "      <td>None</td>\n",
       "      <td>3</td>\n",
       "    </tr>\n",
       "    <tr>\n",
       "      <th>3</th>\n",
       "      <td>computer-school-hillel-international</td>\n",
       "      <td>Добрый день! Хочу оставить отзыв по обучению в...</td>\n",
       "      <td>https://dou.ua/users/mariya-bryizhko/</td>\n",
       "      <td>31 марта 18:36</td>\n",
       "      <td>None</td>\n",
       "      <td>None</td>\n",
       "      <td>3</td>\n",
       "    </tr>\n",
       "    <tr>\n",
       "      <th>4</th>\n",
       "      <td>codeit</td>\n",
       "      <td>Работаю в компании уже ~6,5 лет. Это моя перва...</td>\n",
       "      <td>https://dou.ua/users/daria-lymar-1/</td>\n",
       "      <td>31 марта 17:48</td>\n",
       "      <td>None</td>\n",
       "      <td>None</td>\n",
       "      <td>3</td>\n",
       "    </tr>\n",
       "  </tbody>\n",
       "</table>\n",
       "</div>"
      ],
      "text/plain": [
       "                           company_name  \\\n",
       "0                          ring-ukraine   \n",
       "1  computer-school-hillel-international   \n",
       "2                                 room4   \n",
       "3  computer-school-hillel-international   \n",
       "4                                codeit   \n",
       "\n",
       "                                                text  \\\n",
       "0  Проработала в компании год. Ушла, т.к. другая ...   \n",
       "1  Всем привет!В прошлом году прошел два курса, в...   \n",
       "2  Работаю в компании около 7 месяцев и очень дов...   \n",
       "3  Добрый день! Хочу оставить отзыв по обучению в...   \n",
       "4  Работаю в компании уже ~6,5 лет. Это моя перва...   \n",
       "\n",
       "                                    user            data prons  cons  \\\n",
       "0   https://dou.ua/users/anna-semerenko/  31 марта 22:30  None  None   \n",
       "1   https://dou.ua/users/botirov-rustam/  31 марта 22:21  None  None   \n",
       "2  https://dou.ua/users/victor-osadchiy/  31 марта 19:16  None  None   \n",
       "3  https://dou.ua/users/mariya-bryizhko/  31 марта 18:36  None  None   \n",
       "4    https://dou.ua/users/daria-lymar-1/  31 марта 17:48  None  None   \n",
       "\n",
       "   user_work_type  \n",
       "0               3  \n",
       "1               3  \n",
       "2               3  \n",
       "3               3  \n",
       "4               3  "
      ]
     },
     "execution_count": 71,
     "metadata": {},
     "output_type": "execute_result"
    }
   ],
   "source": [
    "df.head()"
   ]
  },
  {
   "cell_type": "markdown",
   "metadata": {},
   "source": [
    "For instanse, select the review"
   ]
  },
  {
   "cell_type": "code",
   "execution_count": 79,
   "metadata": {},
   "outputs": [
    {
     "data": {
      "text/plain": [
       "'Проходив співбесіду в дану компанію. Виконав тестове завдання, проходив технічну співбесіду. Фідбек не отримав — як повідомила мені рекрутер, технічний спеціаліст, який проводив інтервю, пішов у відпустку на дві неділі по сімейним обставинам. Після ще двох тижднів очікування фідбек так і не надійшов, в результаті вакансія на DOU вже закрита. Хочу з цього приводу відмітити непрофесіоналізм рекрутера (чи, можливо, технічного спеціаліста).'"
      ]
     },
     "execution_count": 79,
     "metadata": {},
     "output_type": "execute_result"
    }
   ],
   "source": [
    "df['text'][19]"
   ]
  },
  {
   "cell_type": "markdown",
   "metadata": {},
   "source": [
    "Set prons and cons for this review"
   ]
  },
  {
   "cell_type": "code",
   "execution_count": 86,
   "metadata": {},
   "outputs": [],
   "source": [
    "df['prons'][19] = []\n",
    "df['cons'][19] = ['непрофесіоналізм рекрутера']"
   ]
  },
  {
   "cell_type": "markdown",
   "metadata": {},
   "source": [
    "Set user work type for selected review (whether user worked, is working or have never worked at this company)."
   ]
  },
  {
   "cell_type": "code",
   "execution_count": 87,
   "metadata": {},
   "outputs": [],
   "source": [
    "df['user_work_type'][19] = UserWorkType.NEVER_WORKED"
   ]
  },
  {
   "cell_type": "code",
   "execution_count": 82,
   "metadata": {},
   "outputs": [
    {
     "data": {
      "text/html": [
       "<div>\n",
       "<style scoped>\n",
       "    .dataframe tbody tr th:only-of-type {\n",
       "        vertical-align: middle;\n",
       "    }\n",
       "\n",
       "    .dataframe tbody tr th {\n",
       "        vertical-align: top;\n",
       "    }\n",
       "\n",
       "    .dataframe thead th {\n",
       "        text-align: right;\n",
       "    }\n",
       "</style>\n",
       "<table border=\"1\" class=\"dataframe\">\n",
       "  <thead>\n",
       "    <tr style=\"text-align: right;\">\n",
       "      <th></th>\n",
       "      <th>company_name</th>\n",
       "      <th>text</th>\n",
       "      <th>user</th>\n",
       "      <th>data</th>\n",
       "      <th>prons</th>\n",
       "      <th>cons</th>\n",
       "      <th>user_work_type</th>\n",
       "    </tr>\n",
       "  </thead>\n",
       "  <tbody>\n",
       "    <tr>\n",
       "      <th>19</th>\n",
       "      <td>echoua</td>\n",
       "      <td>Проходив співбесіду в дану компанію. Виконав т...</td>\n",
       "      <td>https://dou.ua/users/anton-jasynetsky/</td>\n",
       "      <td>30 марта 20:16</td>\n",
       "      <td>[]</td>\n",
       "      <td>[непрофесіоналізм рекрутера]</td>\n",
       "      <td>2</td>\n",
       "    </tr>\n",
       "  </tbody>\n",
       "</table>\n",
       "</div>"
      ],
      "text/plain": [
       "   company_name                                               text  \\\n",
       "19       echoua  Проходив співбесіду в дану компанію. Виконав т...   \n",
       "\n",
       "                                      user            data prons  \\\n",
       "19  https://dou.ua/users/anton-jasynetsky/  30 марта 20:16    []   \n",
       "\n",
       "                            cons  user_work_type  \n",
       "19  [непрофесіоналізм рекрутера]               2  "
      ]
     },
     "execution_count": 82,
     "metadata": {},
     "output_type": "execute_result"
    }
   ],
   "source": [
    "df[19:20]"
   ]
  },
  {
   "cell_type": "markdown",
   "metadata": {},
   "source": [
    "For annotation sentences, firstly, we need to tokenize these review into sentences and annotate each of them."
   ]
  },
  {
   "cell_type": "markdown",
   "metadata": {},
   "source": [
    "It would be good to have some instrument which simplify annotation process, probably we will create simple excel table where labeler can annotate data comfortable."
   ]
  },
  {
   "cell_type": "markdown",
   "metadata": {},
   "source": [
    "#### 2.2 how to improve data automatically  "
   ]
  },
  {
   "cell_type": "markdown",
   "metadata": {},
   "source": [
    "1) As we work with a data which were written by any users, it is not a secret that there can be some mistakes. So before processing this data, it would be good to fix these mistakes automatically. As an option we can fix find words which are not in the dictionary and fond the most suiatable words for this incorrectly written. <br/>\n",
    "2) Additionaly, before processing this data, we can remove some noise like smiles, stop words. <br/>\n",
    "3) If this data would be annotated by two or more annoataors we can filter the data where they did not match user work type or swap any prons and cons (for example one annotator mention some phrase like prons, another like cons). <br/>\n",
    "4) After annotation we can skip the data which don't have exactly prons and cons. <br/>"
   ]
  }
 ],
 "metadata": {
  "kernelspec": {
   "display_name": "Python 3",
   "language": "python",
   "name": "python3"
  },
  "language_info": {
   "codemirror_mode": {
    "name": "ipython",
    "version": 3
   },
   "file_extension": ".py",
   "mimetype": "text/x-python",
   "name": "python",
   "nbconvert_exporter": "python",
   "pygments_lexer": "ipython3",
   "version": "3.7.5"
  }
 },
 "nbformat": 4,
 "nbformat_minor": 4
}
