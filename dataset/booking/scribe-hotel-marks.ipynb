{
 "cells": [
  {
   "cell_type": "code",
   "execution_count": 1,
   "metadata": {},
   "outputs": [],
   "source": [
    "import pandas as pd\n",
    "import numpy as np\n",
    "from bs4 import BeautifulSoup\n",
    "import requests"
   ]
  },
  {
   "cell_type": "code",
   "execution_count": 5,
   "metadata": {},
   "outputs": [],
   "source": [
    "def create_hotel_url(hotel_ref: str):\n",
    "#     ref = hotel_ref.replace('.uk.html', '.ru.html')\n",
    "    ref = hotel_ref\n",
    "    url = f\"https://www.booking.com/reviews/ua/hotel/{ref}?label=gen173nr-1DCA0o6QFCCmhvc3RlbC1zdW5IKVgEaOkBiAEBmAEpuAEHyAEN2AED6AEB-AECiAIBqAIDuAKQgdPrBcACAQ;sid=45a571d0756ef620ea794c3a3ec26fbb;customer_type=total;hp_nav=0;old_page=0;order=featuredreviews;page=1;r_lang=uk;rows=75&\"\n",
    "    return url"
   ]
  },
  {
   "cell_type": "code",
   "execution_count": 48,
   "metadata": {},
   "outputs": [],
   "source": [
    "def parse_topic_scores(hotel):\n",
    "    hotel_url = create_hotel_url(hotel)\n",
    "    result = requests.get(hotel_url)\n",
    "    soup = BeautifulSoup(result.text, 'html.parser')\n",
    "    review_score_list = soup.find(\"ul\", class_=\"review_score_breakdown_list\")\n",
    "    clearfix_list = review_score_list.findAll(\"li\", class_=\"clearfix\")\n",
    "    \n",
    "    result = dict()\n",
    "    for item_soup in clearfix_list:\n",
    "        topic = item_soup.get(\"data-question\")\n",
    "        value_str = item_soup.findAll('p')[1].text\n",
    "        value_str = value_str.replace(',', '.')\n",
    "        result[topic] = float(value_str)\n",
    "\n",
    "    return result"
   ]
  },
  {
   "cell_type": "code",
   "execution_count": 49,
   "metadata": {},
   "outputs": [],
   "source": [
    "hotel_topics = {'hotel_clean', 'hotel_comfort', 'hotel_location', 'hotel_services', 'hotel_staff', 'hotel_value', 'hotel_free_wifi'}"
   ]
  },
  {
   "cell_type": "code",
   "execution_count": 60,
   "metadata": {},
   "outputs": [],
   "source": [
    "def parse_topic_scores_for_hotels(hotels):\n",
    "    result = {topic: [] for topic in  hotel_topics}\n",
    "    result['hotel'] = []    \n",
    "    for hotel in hotels:\n",
    "        try:\n",
    "            hotel_topic_scores = parse_topic_scores(hotel)\n",
    "            result['hotel'].append(hotel)\n",
    "            for topic in hotel_topics:\n",
    "                if topic in hotel_topic_scores:\n",
    "                    result[topic].append(hotel_topic_scores[topic])\n",
    "                else:\n",
    "                    result[topic].append(-1)\n",
    "        except:\n",
    "            continue\n",
    "    \n",
    "    \n",
    "    return pd.DataFrame(result)"
   ]
  },
  {
   "cell_type": "markdown",
   "metadata": {},
   "source": [
    "### Train data"
   ]
  },
  {
   "cell_type": "code",
   "execution_count": 73,
   "metadata": {},
   "outputs": [],
   "source": [
    "df = pd.read_csv(\"booking-train.csv\")"
   ]
  },
  {
   "cell_type": "code",
   "execution_count": 74,
   "metadata": {},
   "outputs": [],
   "source": [
    "hotels = np.unique(df['hotel'].values)"
   ]
  },
  {
   "cell_type": "code",
   "execution_count": 63,
   "metadata": {},
   "outputs": [
    {
     "name": "stdout",
     "output_type": "stream",
     "text": [
      "CPU times: user 1min 13s, sys: 1.04 s, total: 1min 14s\n",
      "Wall time: 9min 1s\n"
     ]
    }
   ],
   "source": [
    "%time hotel_topic_df = parse_topic_scores_for_hotels(hotels)"
   ]
  },
  {
   "cell_type": "code",
   "execution_count": 67,
   "metadata": {},
   "outputs": [
    {
     "data": {
      "text/plain": [
       "46"
      ]
     },
     "execution_count": 67,
     "metadata": {},
     "output_type": "execute_result"
    }
   ],
   "source": [
    "len(hotel_topic_df.loc[hotel_topic_df['hotel_free_wifi'] == -1.0])"
   ]
  },
  {
   "cell_type": "code",
   "execution_count": 68,
   "metadata": {},
   "outputs": [
    {
     "data": {
      "text/html": [
       "<div>\n",
       "<style scoped>\n",
       "    .dataframe tbody tr th:only-of-type {\n",
       "        vertical-align: middle;\n",
       "    }\n",
       "\n",
       "    .dataframe tbody tr th {\n",
       "        vertical-align: top;\n",
       "    }\n",
       "\n",
       "    .dataframe thead th {\n",
       "        text-align: right;\n",
       "    }\n",
       "</style>\n",
       "<table border=\"1\" class=\"dataframe\">\n",
       "  <thead>\n",
       "    <tr style=\"text-align: right;\">\n",
       "      <th></th>\n",
       "      <th>hotel_comfort</th>\n",
       "      <th>hotel_services</th>\n",
       "      <th>hotel_free_wifi</th>\n",
       "      <th>hotel_clean</th>\n",
       "      <th>hotel_staff</th>\n",
       "      <th>hotel_value</th>\n",
       "      <th>hotel_location</th>\n",
       "      <th>hotel</th>\n",
       "    </tr>\n",
       "  </thead>\n",
       "  <tbody>\n",
       "    <tr>\n",
       "      <th>0</th>\n",
       "      <td>8.0</td>\n",
       "      <td>8.1</td>\n",
       "      <td>7.3</td>\n",
       "      <td>8.5</td>\n",
       "      <td>8.9</td>\n",
       "      <td>8.6</td>\n",
       "      <td>8.9</td>\n",
       "      <td>10-rooms.uk.html</td>\n",
       "    </tr>\n",
       "    <tr>\n",
       "      <th>1</th>\n",
       "      <td>8.9</td>\n",
       "      <td>8.9</td>\n",
       "      <td>8.7</td>\n",
       "      <td>9.3</td>\n",
       "      <td>9.2</td>\n",
       "      <td>8.9</td>\n",
       "      <td>8.9</td>\n",
       "      <td>10rooms-apartments.uk.html</td>\n",
       "    </tr>\n",
       "    <tr>\n",
       "      <th>2</th>\n",
       "      <td>8.8</td>\n",
       "      <td>8.6</td>\n",
       "      <td>8.6</td>\n",
       "      <td>8.8</td>\n",
       "      <td>9.4</td>\n",
       "      <td>8.4</td>\n",
       "      <td>8.2</td>\n",
       "      <td>12-months-mini.uk.html</td>\n",
       "    </tr>\n",
       "    <tr>\n",
       "      <th>3</th>\n",
       "      <td>9.3</td>\n",
       "      <td>9.1</td>\n",
       "      <td>8.9</td>\n",
       "      <td>9.4</td>\n",
       "      <td>9.3</td>\n",
       "      <td>9.0</td>\n",
       "      <td>9.3</td>\n",
       "      <td>12-th-floor-odessa.uk.html</td>\n",
       "    </tr>\n",
       "    <tr>\n",
       "      <th>4</th>\n",
       "      <td>9.6</td>\n",
       "      <td>9.5</td>\n",
       "      <td>-1.0</td>\n",
       "      <td>10.0</td>\n",
       "      <td>10.0</td>\n",
       "      <td>9.5</td>\n",
       "      <td>9.6</td>\n",
       "      <td>2kh-komnatnaia-kvartira-odesa12.uk.html</td>\n",
       "    </tr>\n",
       "    <tr>\n",
       "      <th>...</th>\n",
       "      <td>...</td>\n",
       "      <td>...</td>\n",
       "      <td>...</td>\n",
       "      <td>...</td>\n",
       "      <td>...</td>\n",
       "      <td>...</td>\n",
       "      <td>...</td>\n",
       "      <td>...</td>\n",
       "    </tr>\n",
       "    <tr>\n",
       "      <th>537</th>\n",
       "      <td>5.1</td>\n",
       "      <td>5.3</td>\n",
       "      <td>6.2</td>\n",
       "      <td>5.7</td>\n",
       "      <td>6.6</td>\n",
       "      <td>6.0</td>\n",
       "      <td>7.8</td>\n",
       "      <td>zirka-odessa.uk.html</td>\n",
       "    </tr>\n",
       "    <tr>\n",
       "      <th>538</th>\n",
       "      <td>7.7</td>\n",
       "      <td>8.5</td>\n",
       "      <td>-1.0</td>\n",
       "      <td>8.8</td>\n",
       "      <td>9.1</td>\n",
       "      <td>8.3</td>\n",
       "      <td>7.9</td>\n",
       "      <td>zolotoe-runo-odesa.uk.html</td>\n",
       "    </tr>\n",
       "    <tr>\n",
       "      <th>539</th>\n",
       "      <td>8.8</td>\n",
       "      <td>8.3</td>\n",
       "      <td>-1.0</td>\n",
       "      <td>8.5</td>\n",
       "      <td>8.8</td>\n",
       "      <td>8.0</td>\n",
       "      <td>8.5</td>\n",
       "      <td>zory-the-guesthouse-odesa1.uk.html</td>\n",
       "    </tr>\n",
       "    <tr>\n",
       "      <th>540</th>\n",
       "      <td>9.1</td>\n",
       "      <td>9.0</td>\n",
       "      <td>8.8</td>\n",
       "      <td>9.0</td>\n",
       "      <td>9.5</td>\n",
       "      <td>9.0</td>\n",
       "      <td>7.9</td>\n",
       "      <td>zs-club.uk.html</td>\n",
       "    </tr>\n",
       "    <tr>\n",
       "      <th>541</th>\n",
       "      <td>6.9</td>\n",
       "      <td>6.8</td>\n",
       "      <td>6.9</td>\n",
       "      <td>7.5</td>\n",
       "      <td>7.9</td>\n",
       "      <td>7.7</td>\n",
       "      <td>6.9</td>\n",
       "      <td>zvezda.uk.html</td>\n",
       "    </tr>\n",
       "  </tbody>\n",
       "</table>\n",
       "<p>542 rows × 8 columns</p>\n",
       "</div>"
      ],
      "text/plain": [
       "     hotel_comfort  hotel_services  hotel_free_wifi  hotel_clean  hotel_staff  \\\n",
       "0              8.0             8.1              7.3          8.5          8.9   \n",
       "1              8.9             8.9              8.7          9.3          9.2   \n",
       "2              8.8             8.6              8.6          8.8          9.4   \n",
       "3              9.3             9.1              8.9          9.4          9.3   \n",
       "4              9.6             9.5             -1.0         10.0         10.0   \n",
       "..             ...             ...              ...          ...          ...   \n",
       "537            5.1             5.3              6.2          5.7          6.6   \n",
       "538            7.7             8.5             -1.0          8.8          9.1   \n",
       "539            8.8             8.3             -1.0          8.5          8.8   \n",
       "540            9.1             9.0              8.8          9.0          9.5   \n",
       "541            6.9             6.8              6.9          7.5          7.9   \n",
       "\n",
       "     hotel_value  hotel_location                                    hotel  \n",
       "0            8.6             8.9                         10-rooms.uk.html  \n",
       "1            8.9             8.9               10rooms-apartments.uk.html  \n",
       "2            8.4             8.2                   12-months-mini.uk.html  \n",
       "3            9.0             9.3               12-th-floor-odessa.uk.html  \n",
       "4            9.5             9.6  2kh-komnatnaia-kvartira-odesa12.uk.html  \n",
       "..           ...             ...                                      ...  \n",
       "537          6.0             7.8                     zirka-odessa.uk.html  \n",
       "538          8.3             7.9               zolotoe-runo-odesa.uk.html  \n",
       "539          8.0             8.5       zory-the-guesthouse-odesa1.uk.html  \n",
       "540          9.0             7.9                          zs-club.uk.html  \n",
       "541          7.7             6.9                           zvezda.uk.html  \n",
       "\n",
       "[542 rows x 8 columns]"
      ]
     },
     "execution_count": 68,
     "metadata": {},
     "output_type": "execute_result"
    }
   ],
   "source": [
    "hotel_topic_df"
   ]
  },
  {
   "cell_type": "code",
   "execution_count": 70,
   "metadata": {},
   "outputs": [],
   "source": [
    "hotel_topic_df.to_csv('hotel-topic-marks-train.csv')"
   ]
  },
  {
   "cell_type": "markdown",
   "metadata": {},
   "source": [
    "### Test data"
   ]
  },
  {
   "cell_type": "code",
   "execution_count": 75,
   "metadata": {},
   "outputs": [],
   "source": [
    "df_test = pd.read_csv(\"booking-test.csv\")"
   ]
  },
  {
   "cell_type": "code",
   "execution_count": 76,
   "metadata": {},
   "outputs": [],
   "source": [
    "hotels_test = np.unique(df_test['hotel'].values)"
   ]
  },
  {
   "cell_type": "code",
   "execution_count": 77,
   "metadata": {},
   "outputs": [
    {
     "name": "stdout",
     "output_type": "stream",
     "text": [
      "CPU times: user 28.4 s, sys: 283 ms, total: 28.7 s\n",
      "Wall time: 3min 22s\n"
     ]
    }
   ],
   "source": [
    "%time hotel_topic_df_test = parse_topic_scores_for_hotels(hotels_test)"
   ]
  },
  {
   "cell_type": "code",
   "execution_count": 78,
   "metadata": {},
   "outputs": [],
   "source": [
    "hotel_topic_df_test.to_csv('hotel-topic-marks-test.csv')"
   ]
  },
  {
   "cell_type": "markdown",
   "metadata": {},
   "source": [
    "### Validation data"
   ]
  },
  {
   "cell_type": "code",
   "execution_count": 79,
   "metadata": {},
   "outputs": [],
   "source": [
    "df_val = pd.read_csv(\"booking-val.csv\")"
   ]
  },
  {
   "cell_type": "code",
   "execution_count": 80,
   "metadata": {},
   "outputs": [],
   "source": [
    "hotels_val = np.unique(df_val['hotel'].values)"
   ]
  },
  {
   "cell_type": "code",
   "execution_count": 81,
   "metadata": {},
   "outputs": [
    {
     "name": "stdout",
     "output_type": "stream",
     "text": [
      "CPU times: user 26.2 s, sys: 322 ms, total: 26.6 s\n",
      "Wall time: 3min 8s\n"
     ]
    }
   ],
   "source": [
    "%time hotel_topic_df_val = parse_topic_scores_for_hotels(hotels_val)"
   ]
  },
  {
   "cell_type": "code",
   "execution_count": 83,
   "metadata": {},
   "outputs": [],
   "source": [
    "hotel_topic_df_val.to_csv('hotel-topic-marks-val.csv')"
   ]
  },
  {
   "cell_type": "code",
   "execution_count": null,
   "metadata": {},
   "outputs": [],
   "source": []
  }
 ],
 "metadata": {
  "kernelspec": {
   "display_name": "Python 3",
   "language": "python",
   "name": "python3"
  },
  "language_info": {
   "codemirror_mode": {
    "name": "ipython",
    "version": 3
   },
   "file_extension": ".py",
   "mimetype": "text/x-python",
   "name": "python",
   "nbconvert_exporter": "python",
   "pygments_lexer": "ipython3",
   "version": "3.7.5"
  }
 },
 "nbformat": 4,
 "nbformat_minor": 4
}
