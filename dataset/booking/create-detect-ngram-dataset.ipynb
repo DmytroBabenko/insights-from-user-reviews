{
 "cells": [
  {
   "cell_type": "code",
   "execution_count": 1,
   "metadata": {},
   "outputs": [],
   "source": [
    "import pandas as pd"
   ]
  },
  {
   "cell_type": "code",
   "execution_count": 2,
   "metadata": {},
   "outputs": [
    {
     "name": "stdout",
     "output_type": "stream",
     "text": [
      "analyze.ipynb\r\n",
      "booking-rating-for-one-hot-test.csv\r\n",
      "booking-rating-for-one-hot-train.csv\r\n",
      "booking-rating-for-one-hot-val.csv\r\n",
      "booking-rating-test.csv\r\n",
      "booking-rating-train.csv\r\n",
      "booking-rating-val.csv\r\n",
      "booking-sentences-test.csv\r\n",
      "booking-sentences-train.csv\r\n",
      "booking-sentences-val.csv\r\n",
      "booking-test.csv\r\n",
      "booking-train.csv\r\n",
      "booking-val.csv\r\n",
      "create-dataset-for-rating-classification.ipynb\r\n",
      "create-detect-ngram-dataset.ipynb\r\n",
      "create-sentence-classification-dataset.ipynb\r\n",
      "dnipro-reviews.csv\r\n",
      "ivano-frankivsk-reviews.csv\r\n",
      "kharkiv-reviews.csv\r\n",
      "kyiv-reviews.csv\r\n",
      "lviv-reviews.csv\r\n",
      "odesa-reviews.csv\r\n",
      "\u001b[34mtranslated\u001b[m\u001b[m\r\n",
      "uzhgorod-reviews.csv\r\n"
     ]
    }
   ],
   "source": [
    "!ls"
   ]
  },
  {
   "cell_type": "code",
   "execution_count": 3,
   "metadata": {},
   "outputs": [],
   "source": [
    "train_df = pd.read_csv('booking-sentences-train.csv')"
   ]
  },
  {
   "cell_type": "code",
   "execution_count": 4,
   "metadata": {},
   "outputs": [],
   "source": [
    "test_df = pd.read_csv('booking-sentences-test.csv')"
   ]
  },
  {
   "cell_type": "code",
   "execution_count": 5,
   "metadata": {},
   "outputs": [],
   "source": [
    "val_df = pd.read_csv('booking-sentences-val.csv')"
   ]
  },
  {
   "cell_type": "code",
   "execution_count": 6,
   "metadata": {},
   "outputs": [
    {
     "data": {
      "text/plain": [
       "520710"
      ]
     },
     "execution_count": 6,
     "metadata": {},
     "output_type": "execute_result"
    }
   ],
   "source": [
    "len(train_df) + len(test_df) + len(val_df)"
   ]
  }
 ],
 "metadata": {
  "kernelspec": {
   "display_name": "Python 3",
   "language": "python",
   "name": "python3"
  },
  "language_info": {
   "codemirror_mode": {
    "name": "ipython",
    "version": 3
   },
   "file_extension": ".py",
   "mimetype": "text/x-python",
   "name": "python",
   "nbconvert_exporter": "python",
   "pygments_lexer": "ipython3",
   "version": "3.6.8"
  }
 },
 "nbformat": 4,
 "nbformat_minor": 2
}
